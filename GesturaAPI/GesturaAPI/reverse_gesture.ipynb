{
 "cells": [
  {
   "cell_type": "code",
   "execution_count": 2,
   "metadata": {},
   "outputs": [],
   "source": [
    "import json\n",
    "import numpy as np\n",
    "import cv2\n",
    "import mediapipe as mp\n",
    "import os"
   ]
  },
  {
   "cell_type": "code",
   "execution_count": 6,
   "metadata": {},
   "outputs": [
    {
     "ename": "KeyboardInterrupt",
     "evalue": "",
     "output_type": "error",
     "traceback": [
      "\u001b[1;31m---------------------------------------------------------------------------\u001b[0m",
      "\u001b[1;31mKeyboardInterrupt\u001b[0m                         Traceback (most recent call last)",
      "Cell \u001b[1;32mIn[6], line 63\u001b[0m\n\u001b[0;32m     61\u001b[0m         \u001b[38;5;66;03m# Show the gesture in a single window\u001b[39;00m\n\u001b[0;32m     62\u001b[0m         cv2\u001b[38;5;241m.\u001b[39mimshow(\u001b[38;5;124m\"\u001b[39m\u001b[38;5;124mHand Gesture\u001b[39m\u001b[38;5;124m\"\u001b[39m, img)\n\u001b[1;32m---> 63\u001b[0m         \u001b[43mcv2\u001b[49m\u001b[38;5;241;43m.\u001b[39;49m\u001b[43mwaitKey\u001b[49m\u001b[43m(\u001b[49m\u001b[38;5;241;43m2000\u001b[39;49m\u001b[43m)\u001b[49m  \u001b[38;5;66;03m# Wait 2 seconds before moving to the next gesture\u001b[39;00m\n\u001b[0;32m     65\u001b[0m cv2\u001b[38;5;241m.\u001b[39mdestroyAllWindows()\n",
      "\u001b[1;31mKeyboardInterrupt\u001b[0m: "
     ]
    }
   ],
   "source": [
    "GESTURE_FILE = \"gestures.json\"\n",
    "\n",
    "if not os.path.exists(GESTURE_FILE):\n",
    "    print(\"No gestures found.\")\n",
    "    exit()\n",
    "\n",
    "with open(GESTURE_FILE, \"r\") as f:\n",
    "    gesture_dict = json.load(f)\n",
    "    gesture_dict = {\n",
    "        k: {stage: np.array(v, dtype=np.float32) for stage, v in frames.items()}\n",
    "        for k, frames in gesture_dict.items()\n",
    "    }\n",
    "\n",
    "# Initialize Mediapipe for drawing\n",
    "mp_hands = mp.solutions.hands\n",
    "mp_drawing = mp.solutions.drawing_utils\n",
    "mp_drawing_styles = mp.solutions.drawing_styles\n",
    "\n",
    "# Define hand connections based on Mediapipe's model\n",
    "HAND_CONNECTIONS = mp_hands.HAND_CONNECTIONS\n",
    "\n",
    "# Function to denormalize landmarks for visualization\n",
    "def denormalize_landmarks(landmarks, width=320, height=240):\n",
    "    \"\"\"Denormalizes landmarks to fit within the screen dimensions.\"\"\"\n",
    "    scale = min(width, height) // 2  # Assume a scaling factor\n",
    "    center_x, center_y = width // 2, height // 2\n",
    "    denormalized = landmarks * scale + np.array([center_x, center_y, 0])\n",
    "    return denormalized\n",
    "\n",
    "# Create an OpenCV window\n",
    "cv2.namedWindow(\"Hand Gesture\", cv2.WINDOW_NORMAL)\n",
    "\n",
    "for gesture_name, keyframes in gesture_dict.items():\n",
    "    for stage, keypoints in keyframes.items():\n",
    "        # Create a blank image\n",
    "        img = np.zeros((240, 320, 3), dtype=np.uint8)\n",
    "\n",
    "        # Denormalize keypoints\n",
    "        denorm_landmarks = denormalize_landmarks(keypoints)\n",
    "\n",
    "        # Convert to Mediapipe format\n",
    "        landmarks_list = []\n",
    "        for i, (x, y, z) in enumerate(denorm_landmarks):\n",
    "            landmarks_list.append(mp.solutions.hands.HandLandmark(i))\n",
    "\n",
    "        # Draw landmarks and connections\n",
    "        for i, (x, y, _) in enumerate(denorm_landmarks):\n",
    "            cv2.circle(img, (int(x), int(y)), 5, (0, 255, 0), -1)  # Draw points\n",
    "\n",
    "        for connection in HAND_CONNECTIONS:\n",
    "            start_idx, end_idx = connection\n",
    "            if start_idx < len(denorm_landmarks) and end_idx < len(denorm_landmarks):\n",
    "                start_point = tuple(map(int, denorm_landmarks[start_idx][:2]))\n",
    "                end_point = tuple(map(int, denorm_landmarks[end_idx][:2]))\n",
    "                cv2.line(img, start_point, end_point, (255, 255, 255), 2)  # Draw connections\n",
    "\n",
    "        # Display gesture name and stage\n",
    "        cv2.putText(img, f\"{gesture_name} - {stage}\", (10, 30),\n",
    "                    cv2.FONT_HERSHEY_SIMPLEX, 0.7, (255, 255, 255), 2)\n",
    "\n",
    "        # Show the gesture in a single window\n",
    "        cv2.imshow(\"Hand Gesture\", img)\n",
    "        cv2.waitKey(2000)  # Wait 2 seconds before moving to the next gesture\n",
    "\n",
    "cv2.destroyAllWindows()"
   ]
  },
  {
   "cell_type": "code",
   "execution_count": null,
   "metadata": {},
   "outputs": [],
   "source": []
  }
 ],
 "metadata": {
  "kernelspec": {
   "display_name": "base",
   "language": "python",
   "name": "python3"
  },
  "language_info": {
   "codemirror_mode": {
    "name": "ipython",
    "version": 3
   },
   "file_extension": ".py",
   "mimetype": "text/x-python",
   "name": "python",
   "nbconvert_exporter": "python",
   "pygments_lexer": "ipython3",
   "version": "3.12.7"
  }
 },
 "nbformat": 4,
 "nbformat_minor": 2
}
